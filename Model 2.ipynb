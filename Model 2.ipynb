{
 "cells": [
  {
   "cell_type": "code",
   "execution_count": 30,
   "metadata": {
    "ExecuteTime": {
     "end_time": "2019-05-17T00:39:40.962634Z",
     "start_time": "2019-05-17T00:39:40.955926Z"
    }
   },
   "outputs": [],
   "source": [
    "import pandas as pd\n",
    "import numpy as np\n",
    "import matplotlib.pyplot as plt\n",
    "import seaborn as sns\n",
    "import matplotlib as mbl\n",
    "from scipy import stats\n",
    "%matplotlib inline\n",
    "\n",
    "from sklearn.datasets import make_classification, make_regression\n",
    "from sklearn.preprocessing import StandardScaler\n",
    "from sklearn.model_selection import train_test_split\n",
    "import matplotlib.pyplot as plt\n",
    "\n",
    "from tensorflow.keras.models import Sequential\n",
    "from tensorflow.keras.layers import Dense \n",
    "from tensorflow.keras.utils import to_categorical"
   ]
  },
  {
   "cell_type": "code",
   "execution_count": 2,
   "metadata": {
    "ExecuteTime": {
     "end_time": "2019-05-17T00:16:57.395560Z",
     "start_time": "2019-05-17T00:16:49.847113Z"
    }
   },
   "outputs": [],
   "source": [
    "statcast_2016 = pd.read_csv(\"/Users/orah82/baseball_cap/data_2016.csv\")"
   ]
  },
  {
   "cell_type": "code",
   "execution_count": null,
   "metadata": {},
   "outputs": [],
   "source": []
  },
  {
   "cell_type": "code",
   "execution_count": null,
   "metadata": {},
   "outputs": [],
   "source": []
  },
  {
   "cell_type": "code",
   "execution_count": 3,
   "metadata": {
    "ExecuteTime": {
     "end_time": "2019-05-17T00:16:57.400818Z",
     "start_time": "2019-05-17T00:16:57.397625Z"
    }
   },
   "outputs": [],
   "source": [
    "pd.set_option('display.max_columns', 500)\n",
    "pd.set_option(\"display.max_rows\", 101)"
   ]
  },
  {
   "cell_type": "code",
   "execution_count": 4,
   "metadata": {
    "ExecuteTime": {
     "end_time": "2019-05-17T00:16:57.868087Z",
     "start_time": "2019-05-17T00:16:57.403734Z"
    }
   },
   "outputs": [],
   "source": [
    "statcast_2016.drop(columns=\"Unnamed: 0\", inplace=True)\n",
    "statcast_2016.set_index(\"index\", inplace=True)"
   ]
  },
  {
   "cell_type": "code",
   "execution_count": 5,
   "metadata": {
    "ExecuteTime": {
     "end_time": "2019-05-17T00:16:57.872507Z",
     "start_time": "2019-05-17T00:16:57.870201Z"
    }
   },
   "outputs": [],
   "source": [
    "features = ['release_speed', 'release_pos_x', 'release_pos_z', 'release_spin_rate', 'pfx_x', 'pfx_z', 'events']\n",
    "\n"
   ]
  },
  {
   "cell_type": "code",
   "execution_count": 6,
   "metadata": {
    "ExecuteTime": {
     "end_time": "2019-05-17T00:17:28.582673Z",
     "start_time": "2019-05-17T00:17:28.550407Z"
    }
   },
   "outputs": [],
   "source": [
    "statcast_beta = statcast_2016[features]"
   ]
  },
  {
   "cell_type": "code",
   "execution_count": 7,
   "metadata": {
    "ExecuteTime": {
     "end_time": "2019-05-17T00:17:37.769414Z",
     "start_time": "2019-05-17T00:17:37.751695Z"
    }
   },
   "outputs": [
    {
     "data": {
      "text/html": [
       "<div>\n",
       "<style scoped>\n",
       "    .dataframe tbody tr th:only-of-type {\n",
       "        vertical-align: middle;\n",
       "    }\n",
       "\n",
       "    .dataframe tbody tr th {\n",
       "        vertical-align: top;\n",
       "    }\n",
       "\n",
       "    .dataframe thead th {\n",
       "        text-align: right;\n",
       "    }\n",
       "</style>\n",
       "<table border=\"1\" class=\"dataframe\">\n",
       "  <thead>\n",
       "    <tr style=\"text-align: right;\">\n",
       "      <th></th>\n",
       "      <th>release_speed</th>\n",
       "      <th>release_pos_x</th>\n",
       "      <th>release_pos_z</th>\n",
       "      <th>release_spin_rate</th>\n",
       "      <th>pfx_x</th>\n",
       "      <th>pfx_z</th>\n",
       "      <th>events</th>\n",
       "    </tr>\n",
       "    <tr>\n",
       "      <th>index</th>\n",
       "      <th></th>\n",
       "      <th></th>\n",
       "      <th></th>\n",
       "      <th></th>\n",
       "      <th></th>\n",
       "      <th></th>\n",
       "      <th></th>\n",
       "    </tr>\n",
       "  </thead>\n",
       "  <tbody>\n",
       "    <tr>\n",
       "      <th>13</th>\n",
       "      <td>89.9</td>\n",
       "      <td>-1.3285</td>\n",
       "      <td>6.2611</td>\n",
       "      <td>2119.0</td>\n",
       "      <td>-0.212108</td>\n",
       "      <td>0.581267</td>\n",
       "      <td>field_out</td>\n",
       "    </tr>\n",
       "    <tr>\n",
       "      <th>15</th>\n",
       "      <td>90.0</td>\n",
       "      <td>-1.0754</td>\n",
       "      <td>6.3885</td>\n",
       "      <td>1976.0</td>\n",
       "      <td>-0.159225</td>\n",
       "      <td>0.727467</td>\n",
       "      <td>NaN</td>\n",
       "    </tr>\n",
       "    <tr>\n",
       "      <th>19</th>\n",
       "      <td>90.8</td>\n",
       "      <td>-1.1806</td>\n",
       "      <td>6.3923</td>\n",
       "      <td>2181.0</td>\n",
       "      <td>-0.021450</td>\n",
       "      <td>0.819200</td>\n",
       "      <td>NaN</td>\n",
       "    </tr>\n",
       "    <tr>\n",
       "      <th>22</th>\n",
       "      <td>95.7</td>\n",
       "      <td>-1.1880</td>\n",
       "      <td>6.4365</td>\n",
       "      <td>2091.0</td>\n",
       "      <td>-0.579508</td>\n",
       "      <td>1.335200</td>\n",
       "      <td>strikeout</td>\n",
       "    </tr>\n",
       "    <tr>\n",
       "      <th>24</th>\n",
       "      <td>89.1</td>\n",
       "      <td>-1.2936</td>\n",
       "      <td>6.3917</td>\n",
       "      <td>2141.0</td>\n",
       "      <td>0.259667</td>\n",
       "      <td>0.575533</td>\n",
       "      <td>NaN</td>\n",
       "    </tr>\n",
       "  </tbody>\n",
       "</table>\n",
       "</div>"
      ],
      "text/plain": [
       "       release_speed  release_pos_x  release_pos_z  release_spin_rate  \\\n",
       "index                                                                   \n",
       "13              89.9        -1.3285         6.2611             2119.0   \n",
       "15              90.0        -1.0754         6.3885             1976.0   \n",
       "19              90.8        -1.1806         6.3923             2181.0   \n",
       "22              95.7        -1.1880         6.4365             2091.0   \n",
       "24              89.1        -1.2936         6.3917             2141.0   \n",
       "\n",
       "          pfx_x     pfx_z     events  \n",
       "index                                 \n",
       "13    -0.212108  0.581267  field_out  \n",
       "15    -0.159225  0.727467        NaN  \n",
       "19    -0.021450  0.819200        NaN  \n",
       "22    -0.579508  1.335200  strikeout  \n",
       "24     0.259667  0.575533        NaN  "
      ]
     },
     "execution_count": 7,
     "metadata": {},
     "output_type": "execute_result"
    }
   ],
   "source": [
    "statcast_beta.head()"
   ]
  },
  {
   "cell_type": "code",
   "execution_count": 8,
   "metadata": {
    "ExecuteTime": {
     "end_time": "2019-05-17T00:20:04.432876Z",
     "start_time": "2019-05-17T00:20:04.212346Z"
    }
   },
   "outputs": [
    {
     "name": "stderr",
     "output_type": "stream",
     "text": [
      "/Users/orah82/anaconda3/envs/DSI/lib/python3.7/site-packages/ipykernel_launcher.py:1: SettingWithCopyWarning: \n",
      "A value is trying to be set on a copy of a slice from a DataFrame\n",
      "\n",
      "See the caveats in the documentation: http://pandas.pydata.org/pandas-docs/stable/indexing.html#indexing-view-versus-copy\n",
      "  \"\"\"Entry point for launching an IPython kernel.\n"
     ]
    }
   ],
   "source": [
    "statcast_beta.dropna(how='any', axis=0, inplace=True)"
   ]
  },
  {
   "cell_type": "code",
   "execution_count": 9,
   "metadata": {
    "ExecuteTime": {
     "end_time": "2019-05-17T00:23:14.235447Z",
     "start_time": "2019-05-17T00:23:13.914656Z"
    }
   },
   "outputs": [],
   "source": [
    " statcast_beta= statcast_beta.replace(['single','walk','double','home_run',\n",
    "                                'hit_by_pitch', 'sac_fly', 'sac_bunt','triple','run','sac_bunt_double_play'],0)"
   ]
  },
  {
   "cell_type": "code",
   "execution_count": 16,
   "metadata": {
    "ExecuteTime": {
     "end_time": "2019-05-17T00:29:32.000277Z",
     "start_time": "2019-05-17T00:29:31.727404Z"
    }
   },
   "outputs": [],
   "source": [
    "statcast_beta= statcast_beta.replace(['intent_walk','pickoff_1b','sac_fly_double_play','field_error','catcher_interf','pickoff_2b',\n",
    "                                     \"pickoff_caught_stealing_3b\",\"pickoff_caught_stealing_2b\"], 1)"
   ]
  },
  {
   "cell_type": "code",
   "execution_count": 18,
   "metadata": {
    "ExecuteTime": {
     "end_time": "2019-05-17T00:31:04.698723Z",
     "start_time": "2019-05-17T00:31:04.273588Z"
    }
   },
   "outputs": [],
   "source": [
    "statcast_beta = statcast_beta.replace(['caught_stealing_home','fielders_choice','double_play','field_out', \"strikeout\", 'force_out',\n",
    "                             'grounded_into_double_play','fielders_choice_out',\n",
    "                             'strikeout_double_play','other_out','sac_fly_double_play',\n",
    "                             'pickoff_caught_stealing_home','batter_interference',\n",
    "                             'caught_stealing_2b','triple_play','caught_stealing_3b'],2)"
   ]
  },
  {
   "cell_type": "code",
   "execution_count": 20,
   "metadata": {
    "ExecuteTime": {
     "end_time": "2019-05-17T00:32:53.201667Z",
     "start_time": "2019-05-17T00:32:53.196158Z"
    }
   },
   "outputs": [],
   "source": [
    "X = statcast_beta.drop(columns='events')"
   ]
  },
  {
   "cell_type": "code",
   "execution_count": 22,
   "metadata": {
    "ExecuteTime": {
     "end_time": "2019-05-17T00:33:06.137231Z",
     "start_time": "2019-05-17T00:33:06.134489Z"
    }
   },
   "outputs": [],
   "source": [
    "y= statcast_beta['events']"
   ]
  },
  {
   "cell_type": "code",
   "execution_count": 23,
   "metadata": {
    "ExecuteTime": {
     "end_time": "2019-05-17T00:33:40.055698Z",
     "start_time": "2019-05-17T00:33:40.051519Z"
    }
   },
   "outputs": [
    {
     "data": {
      "text/plain": [
       "(166247, 6)"
      ]
     },
     "execution_count": 23,
     "metadata": {},
     "output_type": "execute_result"
    }
   ],
   "source": [
    "X.shape"
   ]
  },
  {
   "cell_type": "code",
   "execution_count": 24,
   "metadata": {
    "ExecuteTime": {
     "end_time": "2019-05-17T00:33:42.010784Z",
     "start_time": "2019-05-17T00:33:42.007094Z"
    }
   },
   "outputs": [
    {
     "data": {
      "text/plain": [
       "(166247,)"
      ]
     },
     "execution_count": 24,
     "metadata": {},
     "output_type": "execute_result"
    }
   ],
   "source": [
    "y.shape"
   ]
  },
  {
   "cell_type": "code",
   "execution_count": 50,
   "metadata": {
    "ExecuteTime": {
     "end_time": "2019-05-17T12:22:58.332973Z",
     "start_time": "2019-05-17T12:22:58.261991Z"
    }
   },
   "outputs": [
    {
     "data": {
      "text/plain": [
       "0.33333334"
      ]
     },
     "execution_count": 50,
     "metadata": {},
     "output_type": "execute_result"
    }
   ],
   "source": [
    "y.mean()"
   ]
  },
  {
   "cell_type": "code",
   "execution_count": 31,
   "metadata": {
    "ExecuteTime": {
     "end_time": "2019-05-17T00:39:46.996541Z",
     "start_time": "2019-05-17T00:39:46.990279Z"
    }
   },
   "outputs": [],
   "source": [
    "y = to_categorical(y)"
   ]
  },
  {
   "cell_type": "code",
   "execution_count": 44,
   "metadata": {
    "ExecuteTime": {
     "end_time": "2019-05-17T00:45:57.078922Z",
     "start_time": "2019-05-17T00:45:57.054633Z"
    }
   },
   "outputs": [],
   "source": [
    "X_train, X_test, y_train, y_test= train_test_split(X, y,\n",
    "                                                   random_state=77)"
   ]
  },
  {
   "cell_type": "code",
   "execution_count": 45,
   "metadata": {
    "ExecuteTime": {
     "end_time": "2019-05-17T00:45:57.494353Z",
     "start_time": "2019-05-17T00:45:57.475303Z"
    }
   },
   "outputs": [],
   "source": [
    "ss = StandardScaler()\n",
    "X_train_sc = ss.fit_transform(X_train)\n",
    "X_test_sc = ss.transform(X_test)"
   ]
  },
  {
   "cell_type": "code",
   "execution_count": 46,
   "metadata": {
    "ExecuteTime": {
     "end_time": "2019-05-17T00:45:57.939215Z",
     "start_time": "2019-05-17T00:45:57.893971Z"
    }
   },
   "outputs": [],
   "source": [
    "model = Sequential()\n",
    "\n",
    "model.add(Dense(64, # number of neurons, hyperparameter\n",
    "                activation='relu', # always use relu\n",
    "                input_shape=(X_train.shape[1],))) # number of features: 6\n",
    "\n",
    "model.add(Dense(32, # number of neurons, hyperparameter\n",
    "                activation='relu', # always use relu\n",
    "                input_shape=(X_train.shape[1],))) # number of features: 6\n",
    "\n",
    "model.add(Dense(16, # number of neurons, hyperparameter\n",
    "                activation='relu', # always use relu\n",
    "                input_shape=(X_train.shape[1],))) # number of features: 6\n",
    "\n",
    "\n",
    "model.add(Dense(y.shape[1], # 3 neurons, one neuron per class\n",
    "                activation='softmax'))"
   ]
  },
  {
   "cell_type": "code",
   "execution_count": 47,
   "metadata": {
    "ExecuteTime": {
     "end_time": "2019-05-17T00:45:58.462114Z",
     "start_time": "2019-05-17T00:45:58.366719Z"
    }
   },
   "outputs": [],
   "source": [
    "model.compile(loss='categorical_crossentropy',\n",
    "              optimizer='adam',\n",
    "              metrics=['accuracy'])"
   ]
  },
  {
   "cell_type": "code",
   "execution_count": 48,
   "metadata": {
    "ExecuteTime": {
     "end_time": "2019-05-17T00:46:10.413794Z",
     "start_time": "2019-05-17T00:45:59.130652Z"
    }
   },
   "outputs": [
    {
     "name": "stdout",
     "output_type": "stream",
     "text": [
      "Train on 124685 samples, validate on 41562 samples\n",
      "Epoch 1/30\n",
      "124685/124685 [==============================] - 1s 4us/sample - loss: 0.7252 - accuracy: 0.6530 - val_loss: 0.6904 - val_accuracy: 0.6577\n",
      "Epoch 2/30\n",
      "124685/124685 [==============================] - 0s 3us/sample - loss: 0.6903 - accuracy: 0.6567 - val_loss: 0.6866 - val_accuracy: 0.6584\n",
      "Epoch 3/30\n",
      "124685/124685 [==============================] - 0s 3us/sample - loss: 0.6883 - accuracy: 0.6569 - val_loss: 0.6854 - val_accuracy: 0.6586\n",
      "Epoch 4/30\n",
      "124685/124685 [==============================] - 0s 3us/sample - loss: 0.6870 - accuracy: 0.6569 - val_loss: 0.6848 - val_accuracy: 0.6586\n",
      "Epoch 5/30\n",
      "124685/124685 [==============================] - 0s 3us/sample - loss: 0.6864 - accuracy: 0.6570 - val_loss: 0.6843 - val_accuracy: 0.6584\n",
      "Epoch 6/30\n",
      "124685/124685 [==============================] - 0s 3us/sample - loss: 0.6859 - accuracy: 0.6571 - val_loss: 0.6843 - val_accuracy: 0.6588\n",
      "Epoch 7/30\n",
      "124685/124685 [==============================] - 0s 3us/sample - loss: 0.6856 - accuracy: 0.6571 - val_loss: 0.6838 - val_accuracy: 0.6586\n",
      "Epoch 8/30\n",
      "124685/124685 [==============================] - 0s 3us/sample - loss: 0.6851 - accuracy: 0.6571 - val_loss: 0.6835 - val_accuracy: 0.6588\n",
      "Epoch 9/30\n",
      "124685/124685 [==============================] - 0s 3us/sample - loss: 0.6845 - accuracy: 0.6573 - val_loss: 0.6835 - val_accuracy: 0.6588\n",
      "Epoch 10/30\n",
      "124685/124685 [==============================] - 0s 3us/sample - loss: 0.6843 - accuracy: 0.6572 - val_loss: 0.6833 - val_accuracy: 0.6588\n",
      "Epoch 11/30\n",
      "124685/124685 [==============================] - 0s 3us/sample - loss: 0.6840 - accuracy: 0.6573 - val_loss: 0.6832 - val_accuracy: 0.6588\n",
      "Epoch 12/30\n",
      "124685/124685 [==============================] - 0s 3us/sample - loss: 0.6837 - accuracy: 0.6573 - val_loss: 0.6838 - val_accuracy: 0.6588\n",
      "Epoch 13/30\n",
      "124685/124685 [==============================] - 0s 3us/sample - loss: 0.6837 - accuracy: 0.6575 - val_loss: 0.6828 - val_accuracy: 0.6589\n",
      "Epoch 14/30\n",
      "124685/124685 [==============================] - 0s 3us/sample - loss: 0.6832 - accuracy: 0.6574 - val_loss: 0.6828 - val_accuracy: 0.6590\n",
      "Epoch 15/30\n",
      "124685/124685 [==============================] - 0s 3us/sample - loss: 0.6830 - accuracy: 0.6575 - val_loss: 0.6834 - val_accuracy: 0.6587\n",
      "Epoch 16/30\n",
      "124685/124685 [==============================] - 0s 3us/sample - loss: 0.6828 - accuracy: 0.6575 - val_loss: 0.6825 - val_accuracy: 0.6592\n",
      "Epoch 17/30\n",
      "124685/124685 [==============================] - 0s 3us/sample - loss: 0.6825 - accuracy: 0.6575 - val_loss: 0.6834 - val_accuracy: 0.6590\n",
      "Epoch 18/30\n",
      "124685/124685 [==============================] - 0s 3us/sample - loss: 0.6824 - accuracy: 0.6575 - val_loss: 0.6826 - val_accuracy: 0.6591\n",
      "Epoch 19/30\n",
      "124685/124685 [==============================] - 0s 3us/sample - loss: 0.6823 - accuracy: 0.6576 - val_loss: 0.6843 - val_accuracy: 0.6590\n",
      "Epoch 20/30\n",
      "124685/124685 [==============================] - 0s 3us/sample - loss: 0.6822 - accuracy: 0.6576 - val_loss: 0.6824 - val_accuracy: 0.6592\n",
      "Epoch 21/30\n",
      "124685/124685 [==============================] - 0s 3us/sample - loss: 0.6819 - accuracy: 0.6577 - val_loss: 0.6829 - val_accuracy: 0.6590\n",
      "Epoch 22/30\n",
      "124685/124685 [==============================] - 0s 3us/sample - loss: 0.6820 - accuracy: 0.6577 - val_loss: 0.6842 - val_accuracy: 0.6592\n",
      "Epoch 23/30\n",
      "124685/124685 [==============================] - 0s 3us/sample - loss: 0.6818 - accuracy: 0.6577 - val_loss: 0.6828 - val_accuracy: 0.6591\n",
      "Epoch 24/30\n",
      "124685/124685 [==============================] - 0s 3us/sample - loss: 0.6815 - accuracy: 0.6576 - val_loss: 0.6830 - val_accuracy: 0.6592\n",
      "Epoch 25/30\n",
      "124685/124685 [==============================] - 0s 3us/sample - loss: 0.6813 - accuracy: 0.6578 - val_loss: 0.6832 - val_accuracy: 0.6592\n",
      "Epoch 26/30\n",
      "124685/124685 [==============================] - 0s 3us/sample - loss: 0.6812 - accuracy: 0.6577 - val_loss: 0.6828 - val_accuracy: 0.6591\n",
      "Epoch 27/30\n",
      "124685/124685 [==============================] - 0s 3us/sample - loss: 0.6814 - accuracy: 0.6578 - val_loss: 0.6830 - val_accuracy: 0.6594\n",
      "Epoch 28/30\n",
      "124685/124685 [==============================] - 0s 3us/sample - loss: 0.6811 - accuracy: 0.6578 - val_loss: 0.6833 - val_accuracy: 0.6592\n",
      "Epoch 29/30\n",
      "124685/124685 [==============================] - 0s 3us/sample - loss: 0.6811 - accuracy: 0.6578 - val_loss: 0.6828 - val_accuracy: 0.6593\n",
      "Epoch 30/30\n",
      "124685/124685 [==============================] - 0s 3us/sample - loss: 0.6808 - accuracy: 0.6578 - val_loss: 0.6839 - val_accuracy: 0.6590\n"
     ]
    }
   ],
   "source": [
    "history = model.fit(X_train_sc, y_train,\n",
    "          epochs=30,\n",
    "          batch_size=512,\n",
    "          validation_data=(X_test_sc, y_test))"
   ]
  },
  {
   "cell_type": "code",
   "execution_count": 42,
   "metadata": {
    "ExecuteTime": {
     "end_time": "2019-05-17T00:44:57.127476Z",
     "start_time": "2019-05-17T00:44:56.873268Z"
    }
   },
   "outputs": [
    {
     "data": {
      "text/plain": [
       "array([[0.28008816, 0.01548208, 0.70442975],\n",
       "       [0.33842215, 0.01455668, 0.64702123],\n",
       "       [0.3835005 , 0.01237811, 0.6041213 ],\n",
       "       ...,\n",
       "       [0.37238374, 0.0121924 , 0.6154238 ],\n",
       "       [0.24992996, 0.00876867, 0.74130136],\n",
       "       [0.3710581 , 0.00772197, 0.62121993]], dtype=float32)"
      ]
     },
     "execution_count": 42,
     "metadata": {},
     "output_type": "execute_result"
    }
   ],
   "source": [
    "model.predict(X_test_sc)"
   ]
  },
  {
   "cell_type": "code",
   "execution_count": 49,
   "metadata": {
    "ExecuteTime": {
     "end_time": "2019-05-17T00:46:15.456686Z",
     "start_time": "2019-05-17T00:46:15.256009Z"
    }
   },
   "outputs": [
    {
     "data": {
      "image/png": "[encoded data removed]",
      "text/plain": [
       "<Figure size 432x288 with 1 Axes>"
      ]
     },
     "metadata": {
      "needs_background": "light"
     },
     "output_type": "display_data"
    }
   ],
   "source": [
    "plt.plot(history.history['loss'], label='Train loss')\n",
    "plt.plot(history.history['val_loss'], label='Test loss')\n",
    "plt.legend();"
   ]
  },
  {
   "cell_type": "code",
   "execution_count": null,
   "metadata": {},
   "outputs": [],
   "source": []
  }
 ],
 "metadata": {
  "kernelspec": {
   "display_name": "Python 3",
   "language": "python",
   "name": "python3"
  },
  "language_info": {
   "codemirror_mode": {
    "name": "ipython",
    "version": 3
   },
   "file_extension": ".py",
   "mimetype": "text/x-python",
   "name": "python",
   "nbconvert_exporter": "python",
   "pygments_lexer": "ipython3",
   "version": "3.7.2"
  }
 },
 "nbformat": 4,
 "nbformat_minor": 2
}
